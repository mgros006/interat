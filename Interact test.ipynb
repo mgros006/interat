{
 "cells": [
  {
   "cell_type": "code",
   "execution_count": 1,
   "metadata": {},
   "outputs": [],
   "source": [
    "import pandas as pd\n",
    "import numpy as np\n",
    "import time\n",
    "import ipywidgets as widgets\n",
    "\n",
    "from ipywidgets import interact, interactive, fixed, interact_manual\n",
    "from ipywidgets import Layout, Button, Box, VBox\n",
    "\n",
    "from numpy import gradient\n",
    "from numpy import sqrt\n",
    "from os.path import join\n",
    "\n",
    "import warnings\n",
    "from __future__ import print_function\n",
    "from matplotlib.widgets import Slider\n",
    "\n",
    "import matplotlib.pyplot as plt\n",
    "%matplotlib inline\n",
    "#%matplotlib notebook\n",
    "\n",
    "import warnings\n",
    "#this disables a warning about fractional values in widgets possibly not being supported in the future\n",
    "warnings.simplefilter(action='ignore', category=FutureWarning)"
   ]
  },
  {
   "cell_type": "code",
   "execution_count": 31,
   "metadata": {},
   "outputs": [],
   "source": [
    "def std_dev_plot(data,center,width):\n",
    "    #data=data.values\n",
    "    #data_std=data[start:end]\n",
    "    a=center-width\n",
    "    b=center+width\n",
    "    plt.figure(figsize=(6,6))\n",
    "    plt.plot(data[:,0],data[:,1])\n",
    "    plt.axvspan(data[a,0],data[b,0], color='red', alpha=0.5)\n",
    "    print('Mean=', np.round(np.mean(data[a:b,1]),5))\n",
    "    print('Standard deviation=', np.round(np.std(data[a:b,1]),5))\n",
    "    print('Std dev frac = ', np.round(np.std(data[a:b,1])/(np.mean(data[a:b,1])),4)*100,'%')\n",
    "    print('Standard error=', np.round(np.std(data[a:b,1]/(np.sqrt(b-a))),5))\n",
    "    print('Std err frac = ', np.round(np.std(data[a:b,1]/(np.sqrt(b-a)))/(np.mean(data[a:b,1])),4)*100,'%')\n",
    "    time.sleep(0.01)"
   ]
  },
  {
   "cell_type": "code",
   "execution_count": 43,
   "metadata": {},
   "outputs": [
    {
     "data": {
      "text/plain": [
       "(100, 2)"
      ]
     },
     "execution_count": 43,
     "metadata": {},
     "output_type": "execute_result"
    }
   ],
   "source": [
    "data1 = np.random.rand(100)\n",
    "x_ax = np.arange(0,100,1)\n",
    "data2 = np.transpose(np.array([x_ax,data1]))\n",
    "data2.shape"
   ]
  },
  {
   "cell_type": "code",
   "execution_count": 46,
   "metadata": {},
   "outputs": [
    {
     "data": {
      "application/vnd.jupyter.widget-view+json": {
       "model_id": "e47f30ea2aa74b30b7d9f608dc3f22fd",
       "version_major": 2,
       "version_minor": 0
      },
      "text/plain": [
       "interactive(children=(IntSlider(value=50, description='center', max=150, min=-50), IntSlider(value=2, descript…"
      ]
     },
     "metadata": {},
     "output_type": "display_data"
    },
    {
     "data": {
      "text/plain": [
       "<function __main__.std_dev_plot(data, center, width)>"
      ]
     },
     "execution_count": 46,
     "metadata": {},
     "output_type": "execute_result"
    }
   ],
   "source": [
    "interact(std_dev_plot,data=fixed(data2),center=(50),width=(2,5,8))"
   ]
  },
  {
   "cell_type": "code",
   "execution_count": null,
   "metadata": {},
   "outputs": [],
   "source": []
  }
 ],
 "metadata": {
  "kernelspec": {
   "display_name": "Python 3",
   "language": "python",
   "name": "python3"
  },
  "language_info": {
   "codemirror_mode": {
    "name": "ipython",
    "version": 3
   },
   "file_extension": ".py",
   "mimetype": "text/x-python",
   "name": "python",
   "nbconvert_exporter": "python",
   "pygments_lexer": "ipython3",
   "version": "3.6.5"
  },
  "widgets": {
   "application/vnd.jupyter.widget-state+json": {
    "state": {
     "00dccaea708f46c295704a39f433c8d6": {
      "model_module": "@jupyter-widgets/controls",
      "model_module_version": "1.2.0",
      "model_name": "SliderStyleModel",
      "state": {
       "description_width": ""
      }
     },
     "017c2aca730140b3ac265de34bc16b07": {
      "model_module": "@jupyter-widgets/controls",
      "model_module_version": "1.2.0",
      "model_name": "VBoxModel",
      "state": {
       "_dom_classes": [
        "widget-interact"
       ],
       "children": [
        "IPY_MODEL_738d715882784396894e44e199967d66",
        "IPY_MODEL_f551b96ad39144348f46e7fb5eda338e",
        "IPY_MODEL_2e2acf7feb02430c8b95d311d1c73c4b"
       ],
       "layout": "IPY_MODEL_8e16c24933584066b42521de18779d06"
      }
     },
     "042647a50b0140ed835fec49947e7020": {
      "model_module": "@jupyter-widgets/output",
      "model_module_version": "1.0.0",
      "model_name": "OutputModel",
      "state": {
       "layout": "IPY_MODEL_726278d6d4084dd5ad0e533f5c8b774d",
       "outputs": [
        {
         "ename": "IndexError",
         "evalue": "index 8 is out of bounds for axis 0 with size 2",
         "output_type": "error",
         "traceback": [
          "\u001b[1;31m---------------------------------------------------------------------------\u001b[0m",
          "\u001b[1;31mIndexError\u001b[0m                                Traceback (most recent call last)",
          "\u001b[1;32m~\\AppData\\Local\\Continuum\\anaconda3\\lib\\site-packages\\ipywidgets\\widgets\\interaction.py\u001b[0m in \u001b[0;36mupdate\u001b[1;34m(self, *args)\u001b[0m\n\u001b[0;32m    249\u001b[0m                     \u001b[0mvalue\u001b[0m \u001b[1;33m=\u001b[0m \u001b[0mwidget\u001b[0m\u001b[1;33m.\u001b[0m\u001b[0mget_interact_value\u001b[0m\u001b[1;33m(\u001b[0m\u001b[1;33m)\u001b[0m\u001b[1;33m\u001b[0m\u001b[0m\n\u001b[0;32m    250\u001b[0m                     \u001b[0mself\u001b[0m\u001b[1;33m.\u001b[0m\u001b[0mkwargs\u001b[0m\u001b[1;33m[\u001b[0m\u001b[0mwidget\u001b[0m\u001b[1;33m.\u001b[0m\u001b[0m_kwarg\u001b[0m\u001b[1;33m]\u001b[0m \u001b[1;33m=\u001b[0m \u001b[0mvalue\u001b[0m\u001b[1;33m\u001b[0m\u001b[0m\n\u001b[1;32m--> 251\u001b[1;33m                 \u001b[0mself\u001b[0m\u001b[1;33m.\u001b[0m\u001b[0mresult\u001b[0m \u001b[1;33m=\u001b[0m \u001b[0mself\u001b[0m\u001b[1;33m.\u001b[0m\u001b[0mf\u001b[0m\u001b[1;33m(\u001b[0m\u001b[1;33m**\u001b[0m\u001b[0mself\u001b[0m\u001b[1;33m.\u001b[0m\u001b[0mkwargs\u001b[0m\u001b[1;33m)\u001b[0m\u001b[1;33m\u001b[0m\u001b[0m\n\u001b[0m\u001b[0;32m    252\u001b[0m                 \u001b[0mshow_inline_matplotlib_plots\u001b[0m\u001b[1;33m(\u001b[0m\u001b[1;33m)\u001b[0m\u001b[1;33m\u001b[0m\u001b[0m\n\u001b[0;32m    253\u001b[0m                 \u001b[1;32mif\u001b[0m \u001b[0mself\u001b[0m\u001b[1;33m.\u001b[0m\u001b[0mauto_display\u001b[0m \u001b[1;32mand\u001b[0m \u001b[0mself\u001b[0m\u001b[1;33m.\u001b[0m\u001b[0mresult\u001b[0m \u001b[1;32mis\u001b[0m \u001b[1;32mnot\u001b[0m \u001b[1;32mNone\u001b[0m\u001b[1;33m:\u001b[0m\u001b[1;33m\u001b[0m\u001b[0m\n",
          "\u001b[1;32m<ipython-input-31-17a6fefdcf3b>\u001b[0m in \u001b[0;36mstd_dev_plot\u001b[1;34m(data, center, width)\u001b[0m\n\u001b[0;32m      6\u001b[0m     \u001b[0mplt\u001b[0m\u001b[1;33m.\u001b[0m\u001b[0mfigure\u001b[0m\u001b[1;33m(\u001b[0m\u001b[0mfigsize\u001b[0m\u001b[1;33m=\u001b[0m\u001b[1;33m(\u001b[0m\u001b[1;36m6\u001b[0m\u001b[1;33m,\u001b[0m\u001b[1;36m6\u001b[0m\u001b[1;33m)\u001b[0m\u001b[1;33m)\u001b[0m\u001b[1;33m\u001b[0m\u001b[0m\n\u001b[0;32m      7\u001b[0m     \u001b[0mplt\u001b[0m\u001b[1;33m.\u001b[0m\u001b[0mplot\u001b[0m\u001b[1;33m(\u001b[0m\u001b[0mdata\u001b[0m\u001b[1;33m[\u001b[0m\u001b[1;33m:\u001b[0m\u001b[1;33m,\u001b[0m\u001b[1;36m0\u001b[0m\u001b[1;33m]\u001b[0m\u001b[1;33m,\u001b[0m\u001b[0mdata\u001b[0m\u001b[1;33m[\u001b[0m\u001b[1;33m:\u001b[0m\u001b[1;33m,\u001b[0m\u001b[1;36m1\u001b[0m\u001b[1;33m]\u001b[0m\u001b[1;33m)\u001b[0m\u001b[1;33m\u001b[0m\u001b[0m\n\u001b[1;32m----> 8\u001b[1;33m     \u001b[0mplt\u001b[0m\u001b[1;33m.\u001b[0m\u001b[0maxvspan\u001b[0m\u001b[1;33m(\u001b[0m\u001b[0mdata\u001b[0m\u001b[1;33m[\u001b[0m\u001b[0ma\u001b[0m\u001b[1;33m,\u001b[0m\u001b[1;36m0\u001b[0m\u001b[1;33m]\u001b[0m\u001b[1;33m,\u001b[0m\u001b[0mdata\u001b[0m\u001b[1;33m[\u001b[0m\u001b[0mb\u001b[0m\u001b[1;33m,\u001b[0m\u001b[1;36m0\u001b[0m\u001b[1;33m]\u001b[0m\u001b[1;33m,\u001b[0m \u001b[0mcolor\u001b[0m\u001b[1;33m=\u001b[0m\u001b[1;34m'red'\u001b[0m\u001b[1;33m,\u001b[0m \u001b[0malpha\u001b[0m\u001b[1;33m=\u001b[0m\u001b[1;36m0.5\u001b[0m\u001b[1;33m)\u001b[0m\u001b[1;33m\u001b[0m\u001b[0m\n\u001b[0m\u001b[0;32m      9\u001b[0m     \u001b[0mprint\u001b[0m\u001b[1;33m(\u001b[0m\u001b[1;34m'Mean='\u001b[0m\u001b[1;33m,\u001b[0m \u001b[0mnp\u001b[0m\u001b[1;33m.\u001b[0m\u001b[0mround\u001b[0m\u001b[1;33m(\u001b[0m\u001b[0mnp\u001b[0m\u001b[1;33m.\u001b[0m\u001b[0mmean\u001b[0m\u001b[1;33m(\u001b[0m\u001b[0mdata\u001b[0m\u001b[1;33m[\u001b[0m\u001b[0ma\u001b[0m\u001b[1;33m:\u001b[0m\u001b[0mb\u001b[0m\u001b[1;33m,\u001b[0m\u001b[1;36m1\u001b[0m\u001b[1;33m]\u001b[0m\u001b[1;33m)\u001b[0m\u001b[1;33m,\u001b[0m\u001b[1;36m5\u001b[0m\u001b[1;33m)\u001b[0m\u001b[1;33m)\u001b[0m\u001b[1;33m\u001b[0m\u001b[0m\n\u001b[0;32m     10\u001b[0m     \u001b[0mprint\u001b[0m\u001b[1;33m(\u001b[0m\u001b[1;34m'Standard deviation='\u001b[0m\u001b[1;33m,\u001b[0m \u001b[0mnp\u001b[0m\u001b[1;33m.\u001b[0m\u001b[0mround\u001b[0m\u001b[1;33m(\u001b[0m\u001b[0mnp\u001b[0m\u001b[1;33m.\u001b[0m\u001b[0mstd\u001b[0m\u001b[1;33m(\u001b[0m\u001b[0mdata\u001b[0m\u001b[1;33m[\u001b[0m\u001b[0ma\u001b[0m\u001b[1;33m:\u001b[0m\u001b[0mb\u001b[0m\u001b[1;33m,\u001b[0m\u001b[1;36m1\u001b[0m\u001b[1;33m]\u001b[0m\u001b[1;33m)\u001b[0m\u001b[1;33m,\u001b[0m\u001b[1;36m5\u001b[0m\u001b[1;33m)\u001b[0m\u001b[1;33m)\u001b[0m\u001b[1;33m\u001b[0m\u001b[0m\n",
          "\u001b[1;31mIndexError\u001b[0m: index 8 is out of bounds for axis 0 with size 2"
         ]
        }
       ]
      }
     },
     "076484dc578c4533aa1b6ab2c530cfec": {
      "model_module": "@jupyter-widgets/controls",
      "model_module_version": "1.2.0",
      "model_name": "SliderStyleModel",
      "state": {
       "description_width": ""
      }
     },
     "0a7a5fe0b75741bab53a77a047ac1a03": {
      "model_module": "@jupyter-widgets/controls",
      "model_module_version": "1.2.0",
      "model_name": "SliderStyleModel",
      "state": {
       "description_width": ""
      }
     },
     "0e207fcc00924d46a68ae95fe696429b": {
      "model_module": "@jupyter-widgets/base",
      "model_module_version": "1.0.0",
      "model_name": "LayoutModel",
      "state": {}
     },
     "0e3251ea24654371b0ff12939008e5bf": {
      "model_module": "@jupyter-widgets/controls",
      "model_module_version": "1.2.0",
      "model_name": "SliderStyleModel",
      "state": {
       "description_width": ""
      }
     },
     "10ba66b4b9d9490d91e89131315380a3": {
      "model_module": "@jupyter-widgets/controls",
      "model_module_version": "1.2.0",
      "model_name": "SliderStyleModel",
      "state": {
       "description_width": ""
      }
     },
     "16f578771ca641ac9a9ee5f867c39c83": {
      "model_module": "@jupyter-widgets/controls",
      "model_module_version": "1.2.0",
      "model_name": "IntSliderModel",
      "state": {
       "description": "width",
       "layout": "IPY_MODEL_3ec611cf08df4ba99c1982e18eed51c0",
       "max": 8,
       "min": 2,
       "step": 14,
       "style": "IPY_MODEL_00dccaea708f46c295704a39f433c8d6",
       "value": 2
      }
     },
     "1aa390cbb12e4ffe885c94317d33f3e3": {
      "model_module": "@jupyter-widgets/controls",
      "model_module_version": "1.2.0",
      "model_name": "SliderStyleModel",
      "state": {
       "description_width": ""
      }
     },
     "1eeeb78fb20d4e0c99f249d25f735c1c": {
      "model_module": "@jupyter-widgets/controls",
      "model_module_version": "1.2.0",
      "model_name": "IntSliderModel",
      "state": {
       "description": "width",
       "layout": "IPY_MODEL_36fb1459c9fb4942afb9247b7ae27eee",
       "max": 8,
       "min": 2,
       "step": 14,
       "style": "IPY_MODEL_2048088864bd4a73b07fa7c0dc91774e",
       "value": 2
      }
     },
     "2048088864bd4a73b07fa7c0dc91774e": {
      "model_module": "@jupyter-widgets/controls",
      "model_module_version": "1.2.0",
      "model_name": "SliderStyleModel",
      "state": {
       "description_width": ""
      }
     },
     "21bbe4b8e510427c9a897cb996b6df27": {
      "model_module": "@jupyter-widgets/base",
      "model_module_version": "1.0.0",
      "model_name": "LayoutModel",
      "state": {}
     },
     "22abbfabfbe544c79d8a15ca445a2982": {
      "model_module": "@jupyter-widgets/controls",
      "model_module_version": "1.2.0",
      "model_name": "SliderStyleModel",
      "state": {
       "description_width": ""
      }
     },
     "25cf84107f304b1eb540baf3f7aa3661": {
      "model_module": "@jupyter-widgets/base",
      "model_module_version": "1.0.0",
      "model_name": "LayoutModel",
      "state": {}
     },
     "25ea485ad90f44ad8ccce2b7658e422d": {
      "model_module": "@jupyter-widgets/controls",
      "model_module_version": "1.2.0",
      "model_name": "SliderStyleModel",
      "state": {
       "description_width": ""
      }
     },
     "2702f2fc4e8b45e18ec7daac89cb58ec": {
      "model_module": "@jupyter-widgets/controls",
      "model_module_version": "1.2.0",
      "model_name": "SliderStyleModel",
      "state": {
       "description_width": ""
      }
     },
     "270c10b1ad5747759d3a936496726a0f": {
      "model_module": "@jupyter-widgets/base",
      "model_module_version": "1.0.0",
      "model_name": "LayoutModel",
      "state": {}
     },
     "2711831f693e43f2bd95cbd10eabb558": {
      "model_module": "@jupyter-widgets/output",
      "model_module_version": "1.0.0",
      "model_name": "OutputModel",
      "state": {
       "layout": "IPY_MODEL_21bbe4b8e510427c9a897cb996b6df27",
       "outputs": [
        {
         "name": "stdout",
         "output_type": "stream",
         "text": "Mean= 0.77335\nStandard deviation= 0.21052\nStd dev frac =  27.22 %\nStandard error= 0.10526\nStd err frac =  13.61 %\n"
        },
        {
         "data": {
          "image/png": "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\n",
          "text/plain": "<Figure size 432x432 with 1 Axes>"
         },
         "metadata": {},
         "output_type": "display_data"
        }
       ]
      }
     },
     "2892286d4d124218a5346b3fd1206501": {
      "model_module": "@jupyter-widgets/controls",
      "model_module_version": "1.2.0",
      "model_name": "IntSliderModel",
      "state": {
       "description": "center",
       "layout": "IPY_MODEL_af13b9feab5d4c34be8eab23febf544a",
       "max": 50,
       "min": 10,
       "step": 90,
       "style": "IPY_MODEL_beb483a67d444f62a3fb44539bb4c0ad",
       "value": 10
      }
     },
     "2ad4ac2ef17f4be4903d6416583576f2": {
      "model_module": "@jupyter-widgets/base",
      "model_module_version": "1.0.0",
      "model_name": "LayoutModel",
      "state": {}
     },
     "2d7c640386a640faae1f1b6604da7b24": {
      "model_module": "@jupyter-widgets/controls",
      "model_module_version": "1.2.0",
      "model_name": "VBoxModel",
      "state": {
       "_dom_classes": [
        "widget-interact"
       ],
       "children": [
        "IPY_MODEL_73f4b54102884b8ca2a555ce868aebee",
        "IPY_MODEL_965fd5a0736e42cb84c278b7e7fb1f43",
        "IPY_MODEL_7ff26be861224cb59317436b6e57fe5e"
       ],
       "layout": "IPY_MODEL_8687ae14c1fa45f4947f6236bbde591d"
      }
     },
     "2e2acf7feb02430c8b95d311d1c73c4b": {
      "model_module": "@jupyter-widgets/output",
      "model_module_version": "1.0.0",
      "model_name": "OutputModel",
      "state": {
       "layout": "IPY_MODEL_62e501f321fa40b0b0c878f9a4ec4124",
       "outputs": [
        {
         "name": "stdout",
         "output_type": "stream",
         "text": "Mean= 0.46867\nStandard deviation= 0.2777\nStd dev frac =  59.25 %\nStandard error= 0.13885\nStd err frac =  29.630000000000003 %\n"
        },
        {
         "data": {
          "image/png": "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\n",
          "text/plain": "<Figure size 432x432 with 1 Axes>"
         },
         "metadata": {},
         "output_type": "display_data"
        }
       ]
      }
     },
     "2fd301187afa4a78afe2401b739fd52d": {
      "model_module": "@jupyter-widgets/base",
      "model_module_version": "1.0.0",
      "model_name": "LayoutModel",
      "state": {}
     },
     "311982a3128c40c8ac3b5498acdaf098": {
      "model_module": "@jupyter-widgets/base",
      "model_module_version": "1.0.0",
      "model_name": "LayoutModel",
      "state": {}
     },
     "336e94de63d04c6fae44a18d7e94abc8": {
      "model_module": "@jupyter-widgets/controls",
      "model_module_version": "1.2.0",
      "model_name": "IntSliderModel",
      "state": {
       "description": "width",
       "layout": "IPY_MODEL_9518c75033d44d90bb3a464d21ed16b3",
       "max": 8,
       "min": 2,
       "step": 14,
       "style": "IPY_MODEL_0e3251ea24654371b0ff12939008e5bf",
       "value": 2
      }
     },
     "33cd7c76e9634c1e850b1813d87a413f": {
      "model_module": "@jupyter-widgets/base",
      "model_module_version": "1.0.0",
      "model_name": "LayoutModel",
      "state": {}
     },
     "36fb1459c9fb4942afb9247b7ae27eee": {
      "model_module": "@jupyter-widgets/base",
      "model_module_version": "1.0.0",
      "model_name": "LayoutModel",
      "state": {}
     },
     "3a8f5aa08bf548d3bdd5445f6af688c3": {
      "model_module": "@jupyter-widgets/base",
      "model_module_version": "1.0.0",
      "model_name": "LayoutModel",
      "state": {}
     },
     "3c7b4fca1acc4ee7be57116650547c91": {
      "model_module": "@jupyter-widgets/base",
      "model_module_version": "1.0.0",
      "model_name": "LayoutModel",
      "state": {}
     },
     "3ec611cf08df4ba99c1982e18eed51c0": {
      "model_module": "@jupyter-widgets/base",
      "model_module_version": "1.0.0",
      "model_name": "LayoutModel",
      "state": {}
     },
     "4b3e42150e794e1fa68e1b021ea167fb": {
      "model_module": "@jupyter-widgets/base",
      "model_module_version": "1.0.0",
      "model_name": "LayoutModel",
      "state": {}
     },
     "535e68fd5cf24f6f9eecc4828bb54171": {
      "model_module": "@jupyter-widgets/controls",
      "model_module_version": "1.2.0",
      "model_name": "SliderStyleModel",
      "state": {
       "description_width": ""
      }
     },
     "5debb0f3f5fa43ff8ee2b71ebcccc735": {
      "model_module": "@jupyter-widgets/base",
      "model_module_version": "1.0.0",
      "model_name": "LayoutModel",
      "state": {}
     },
     "600a21dbdf644f028c3a25179be64dbb": {
      "model_module": "@jupyter-widgets/controls",
      "model_module_version": "1.2.0",
      "model_name": "IntSliderModel",
      "state": {
       "description": "center",
       "layout": "IPY_MODEL_a4b8cb10bf8c4e67ae1f12d2829137a0",
       "max": 50,
       "min": 10,
       "step": 90,
       "style": "IPY_MODEL_1aa390cbb12e4ffe885c94317d33f3e3",
       "value": 10
      }
     },
     "612d486915cb45aeb31a4181f39fe553": {
      "model_module": "@jupyter-widgets/controls",
      "model_module_version": "1.2.0",
      "model_name": "SliderStyleModel",
      "state": {
       "description_width": ""
      }
     },
     "62e501f321fa40b0b0c878f9a4ec4124": {
      "model_module": "@jupyter-widgets/base",
      "model_module_version": "1.0.0",
      "model_name": "LayoutModel",
      "state": {}
     },
     "66d5e96b0c604962b67e29553f3a34e7": {
      "model_module": "@jupyter-widgets/controls",
      "model_module_version": "1.2.0",
      "model_name": "VBoxModel",
      "state": {
       "_dom_classes": [
        "widget-interact"
       ],
       "children": [
        "IPY_MODEL_9266832f8a514bd98775545962596a6c",
        "IPY_MODEL_8b6b46ee06c349ce8a4531c82389566d",
        "IPY_MODEL_723ce0268fc745a787d3de7a6de4ff41"
       ],
       "layout": "IPY_MODEL_2ad4ac2ef17f4be4903d6416583576f2"
      }
     },
     "671a62546f8c43af8ca63e86847901b0": {
      "model_module": "@jupyter-widgets/base",
      "model_module_version": "1.0.0",
      "model_name": "LayoutModel",
      "state": {}
     },
     "6a8c7f938b8a4f0a919dd383ab31ce76": {
      "model_module": "@jupyter-widgets/controls",
      "model_module_version": "1.2.0",
      "model_name": "SliderStyleModel",
      "state": {
       "description_width": ""
      }
     },
     "6c1ef7b5e5a14574b09dd2a55ef5fb02": {
      "model_module": "@jupyter-widgets/base",
      "model_module_version": "1.0.0",
      "model_name": "LayoutModel",
      "state": {}
     },
     "71263c06e26045d79ea0648c5322670f": {
      "model_module": "@jupyter-widgets/controls",
      "model_module_version": "1.2.0",
      "model_name": "IntSliderModel",
      "state": {
       "description": "center",
       "layout": "IPY_MODEL_671a62546f8c43af8ca63e86847901b0",
       "max": 150,
       "min": -50,
       "style": "IPY_MODEL_535e68fd5cf24f6f9eecc4828bb54171",
       "value": 50
      }
     },
     "71a0013c012f4da78932c1dbeff206df": {
      "model_module": "@jupyter-widgets/output",
      "model_module_version": "1.0.0",
      "model_name": "OutputModel",
      "state": {
       "layout": "IPY_MODEL_e051d9943e614faea2ca3be341b111a3",
       "outputs": [
        {
         "name": "stdout",
         "output_type": "stream",
         "text": "Mean= 0.6099\nStandard deviation= 0.27091\nStd dev frac =  44.42 %\nStandard error= 0.13546\nStd err frac =  22.21 %\n"
        },
        {
         "data": {
          "image/png": "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\n",
          "text/plain": "<Figure size 432x432 with 1 Axes>"
         },
         "metadata": {},
         "output_type": "display_data"
        }
       ]
      }
     },
     "723ce0268fc745a787d3de7a6de4ff41": {
      "model_module": "@jupyter-widgets/output",
      "model_module_version": "1.0.0",
      "model_name": "OutputModel",
      "state": {
       "layout": "IPY_MODEL_ef3f3af5b85045788ab21fa4fb095c33",
       "outputs": [
        {
         "ename": "AttributeError",
         "evalue": "'numpy.ndarray' object has no attribute 'values'",
         "output_type": "error",
         "traceback": [
          "\u001b[1;31m---------------------------------------------------------------------------\u001b[0m",
          "\u001b[1;31mAttributeError\u001b[0m                            Traceback (most recent call last)",
          "\u001b[1;32m~\\AppData\\Local\\Continuum\\anaconda3\\lib\\site-packages\\ipywidgets\\widgets\\interaction.py\u001b[0m in \u001b[0;36mupdate\u001b[1;34m(self, *args)\u001b[0m\n\u001b[0;32m    249\u001b[0m                     \u001b[0mvalue\u001b[0m \u001b[1;33m=\u001b[0m \u001b[0mwidget\u001b[0m\u001b[1;33m.\u001b[0m\u001b[0mget_interact_value\u001b[0m\u001b[1;33m(\u001b[0m\u001b[1;33m)\u001b[0m\u001b[1;33m\u001b[0m\u001b[0m\n\u001b[0;32m    250\u001b[0m                     \u001b[0mself\u001b[0m\u001b[1;33m.\u001b[0m\u001b[0mkwargs\u001b[0m\u001b[1;33m[\u001b[0m\u001b[0mwidget\u001b[0m\u001b[1;33m.\u001b[0m\u001b[0m_kwarg\u001b[0m\u001b[1;33m]\u001b[0m \u001b[1;33m=\u001b[0m \u001b[0mvalue\u001b[0m\u001b[1;33m\u001b[0m\u001b[0m\n\u001b[1;32m--> 251\u001b[1;33m                 \u001b[0mself\u001b[0m\u001b[1;33m.\u001b[0m\u001b[0mresult\u001b[0m \u001b[1;33m=\u001b[0m \u001b[0mself\u001b[0m\u001b[1;33m.\u001b[0m\u001b[0mf\u001b[0m\u001b[1;33m(\u001b[0m\u001b[1;33m**\u001b[0m\u001b[0mself\u001b[0m\u001b[1;33m.\u001b[0m\u001b[0mkwargs\u001b[0m\u001b[1;33m)\u001b[0m\u001b[1;33m\u001b[0m\u001b[0m\n\u001b[0m\u001b[0;32m    252\u001b[0m                 \u001b[0mshow_inline_matplotlib_plots\u001b[0m\u001b[1;33m(\u001b[0m\u001b[1;33m)\u001b[0m\u001b[1;33m\u001b[0m\u001b[0m\n\u001b[0;32m    253\u001b[0m                 \u001b[1;32mif\u001b[0m \u001b[0mself\u001b[0m\u001b[1;33m.\u001b[0m\u001b[0mauto_display\u001b[0m \u001b[1;32mand\u001b[0m \u001b[0mself\u001b[0m\u001b[1;33m.\u001b[0m\u001b[0mresult\u001b[0m \u001b[1;32mis\u001b[0m \u001b[1;32mnot\u001b[0m \u001b[1;32mNone\u001b[0m\u001b[1;33m:\u001b[0m\u001b[1;33m\u001b[0m\u001b[0m\n",
          "\u001b[1;32m<ipython-input-2-d98e6daf7597>\u001b[0m in \u001b[0;36mstd_dev_plot\u001b[1;34m(data, center, width)\u001b[0m\n\u001b[0;32m      1\u001b[0m \u001b[1;32mdef\u001b[0m \u001b[0mstd_dev_plot\u001b[0m\u001b[1;33m(\u001b[0m\u001b[0mdata\u001b[0m\u001b[1;33m,\u001b[0m\u001b[0mcenter\u001b[0m\u001b[1;33m,\u001b[0m\u001b[0mwidth\u001b[0m\u001b[1;33m)\u001b[0m\u001b[1;33m:\u001b[0m\u001b[1;33m\u001b[0m\u001b[0m\n\u001b[1;32m----> 2\u001b[1;33m     \u001b[0mdata\u001b[0m\u001b[1;33m=\u001b[0m\u001b[0mdata\u001b[0m\u001b[1;33m.\u001b[0m\u001b[0mvalues\u001b[0m\u001b[1;33m\u001b[0m\u001b[0m\n\u001b[0m\u001b[0;32m      3\u001b[0m     \u001b[1;31m#data_std=data[start:end]\u001b[0m\u001b[1;33m\u001b[0m\u001b[1;33m\u001b[0m\u001b[0m\n\u001b[0;32m      4\u001b[0m     \u001b[0ma\u001b[0m\u001b[1;33m=\u001b[0m\u001b[0mcenter\u001b[0m\u001b[1;33m-\u001b[0m\u001b[0mwidth\u001b[0m\u001b[1;33m\u001b[0m\u001b[0m\n\u001b[0;32m      5\u001b[0m     \u001b[0mb\u001b[0m\u001b[1;33m=\u001b[0m\u001b[0mcenter\u001b[0m\u001b[1;33m+\u001b[0m\u001b[0mwidth\u001b[0m\u001b[1;33m\u001b[0m\u001b[0m\n",
          "\u001b[1;31mAttributeError\u001b[0m: 'numpy.ndarray' object has no attribute 'values'"
         ]
        }
       ]
      }
     },
     "726278d6d4084dd5ad0e533f5c8b774d": {
      "model_module": "@jupyter-widgets/base",
      "model_module_version": "1.0.0",
      "model_name": "LayoutModel",
      "state": {}
     },
     "738d715882784396894e44e199967d66": {
      "model_module": "@jupyter-widgets/controls",
      "model_module_version": "1.2.0",
      "model_name": "IntSliderModel",
      "state": {
       "description": "center",
       "layout": "IPY_MODEL_6c1ef7b5e5a14574b09dd2a55ef5fb02",
       "max": 50,
       "min": 10,
       "step": 90,
       "style": "IPY_MODEL_076484dc578c4533aa1b6ab2c530cfec",
       "value": 10
      }
     },
     "73f4b54102884b8ca2a555ce868aebee": {
      "model_module": "@jupyter-widgets/controls",
      "model_module_version": "1.2.0",
      "model_name": "IntSliderModel",
      "state": {
       "description": "center",
       "layout": "IPY_MODEL_5debb0f3f5fa43ff8ee2b71ebcccc735",
       "max": 150,
       "min": -50,
       "style": "IPY_MODEL_7a5154a2500b4d1bb0f48aab507d2aea",
       "value": 50
      }
     },
     "7a5154a2500b4d1bb0f48aab507d2aea": {
      "model_module": "@jupyter-widgets/controls",
      "model_module_version": "1.2.0",
      "model_name": "SliderStyleModel",
      "state": {
       "description_width": ""
      }
     },
     "7efd949e02bf4d6e8106ed7c40a7604f": {
      "model_module": "@jupyter-widgets/base",
      "model_module_version": "1.0.0",
      "model_name": "LayoutModel",
      "state": {}
     },
     "7ff26be861224cb59317436b6e57fe5e": {
      "model_module": "@jupyter-widgets/output",
      "model_module_version": "1.0.0",
      "model_name": "OutputModel",
      "state": {
       "layout": "IPY_MODEL_270c10b1ad5747759d3a936496726a0f",
       "outputs": [
        {
         "ename": "IndexError",
         "evalue": "index 48 is out of bounds for axis 0 with size 2",
         "output_type": "error",
         "traceback": [
          "\u001b[1;31m---------------------------------------------------------------------------\u001b[0m",
          "\u001b[1;31mIndexError\u001b[0m                                Traceback (most recent call last)",
          "\u001b[1;32m~\\AppData\\Local\\Continuum\\anaconda3\\lib\\site-packages\\ipywidgets\\widgets\\interaction.py\u001b[0m in \u001b[0;36mupdate\u001b[1;34m(self, *args)\u001b[0m\n\u001b[0;32m    249\u001b[0m                     \u001b[0mvalue\u001b[0m \u001b[1;33m=\u001b[0m \u001b[0mwidget\u001b[0m\u001b[1;33m.\u001b[0m\u001b[0mget_interact_value\u001b[0m\u001b[1;33m(\u001b[0m\u001b[1;33m)\u001b[0m\u001b[1;33m\u001b[0m\u001b[0m\n\u001b[0;32m    250\u001b[0m                     \u001b[0mself\u001b[0m\u001b[1;33m.\u001b[0m\u001b[0mkwargs\u001b[0m\u001b[1;33m[\u001b[0m\u001b[0mwidget\u001b[0m\u001b[1;33m.\u001b[0m\u001b[0m_kwarg\u001b[0m\u001b[1;33m]\u001b[0m \u001b[1;33m=\u001b[0m \u001b[0mvalue\u001b[0m\u001b[1;33m\u001b[0m\u001b[0m\n\u001b[1;32m--> 251\u001b[1;33m                 \u001b[0mself\u001b[0m\u001b[1;33m.\u001b[0m\u001b[0mresult\u001b[0m \u001b[1;33m=\u001b[0m \u001b[0mself\u001b[0m\u001b[1;33m.\u001b[0m\u001b[0mf\u001b[0m\u001b[1;33m(\u001b[0m\u001b[1;33m**\u001b[0m\u001b[0mself\u001b[0m\u001b[1;33m.\u001b[0m\u001b[0mkwargs\u001b[0m\u001b[1;33m)\u001b[0m\u001b[1;33m\u001b[0m\u001b[0m\n\u001b[0m\u001b[0;32m    252\u001b[0m                 \u001b[0mshow_inline_matplotlib_plots\u001b[0m\u001b[1;33m(\u001b[0m\u001b[1;33m)\u001b[0m\u001b[1;33m\u001b[0m\u001b[0m\n\u001b[0;32m    253\u001b[0m                 \u001b[1;32mif\u001b[0m \u001b[0mself\u001b[0m\u001b[1;33m.\u001b[0m\u001b[0mauto_display\u001b[0m \u001b[1;32mand\u001b[0m \u001b[0mself\u001b[0m\u001b[1;33m.\u001b[0m\u001b[0mresult\u001b[0m \u001b[1;32mis\u001b[0m \u001b[1;32mnot\u001b[0m \u001b[1;32mNone\u001b[0m\u001b[1;33m:\u001b[0m\u001b[1;33m\u001b[0m\u001b[0m\n",
          "\u001b[1;32m<ipython-input-31-17a6fefdcf3b>\u001b[0m in \u001b[0;36mstd_dev_plot\u001b[1;34m(data, center, width)\u001b[0m\n\u001b[0;32m      6\u001b[0m     \u001b[0mplt\u001b[0m\u001b[1;33m.\u001b[0m\u001b[0mfigure\u001b[0m\u001b[1;33m(\u001b[0m\u001b[0mfigsize\u001b[0m\u001b[1;33m=\u001b[0m\u001b[1;33m(\u001b[0m\u001b[1;36m6\u001b[0m\u001b[1;33m,\u001b[0m\u001b[1;36m6\u001b[0m\u001b[1;33m)\u001b[0m\u001b[1;33m)\u001b[0m\u001b[1;33m\u001b[0m\u001b[0m\n\u001b[0;32m      7\u001b[0m     \u001b[0mplt\u001b[0m\u001b[1;33m.\u001b[0m\u001b[0mplot\u001b[0m\u001b[1;33m(\u001b[0m\u001b[0mdata\u001b[0m\u001b[1;33m[\u001b[0m\u001b[1;33m:\u001b[0m\u001b[1;33m,\u001b[0m\u001b[1;36m0\u001b[0m\u001b[1;33m]\u001b[0m\u001b[1;33m,\u001b[0m\u001b[0mdata\u001b[0m\u001b[1;33m[\u001b[0m\u001b[1;33m:\u001b[0m\u001b[1;33m,\u001b[0m\u001b[1;36m1\u001b[0m\u001b[1;33m]\u001b[0m\u001b[1;33m)\u001b[0m\u001b[1;33m\u001b[0m\u001b[0m\n\u001b[1;32m----> 8\u001b[1;33m     \u001b[0mplt\u001b[0m\u001b[1;33m.\u001b[0m\u001b[0maxvspan\u001b[0m\u001b[1;33m(\u001b[0m\u001b[0mdata\u001b[0m\u001b[1;33m[\u001b[0m\u001b[0ma\u001b[0m\u001b[1;33m,\u001b[0m\u001b[1;36m0\u001b[0m\u001b[1;33m]\u001b[0m\u001b[1;33m,\u001b[0m\u001b[0mdata\u001b[0m\u001b[1;33m[\u001b[0m\u001b[0mb\u001b[0m\u001b[1;33m,\u001b[0m\u001b[1;36m0\u001b[0m\u001b[1;33m]\u001b[0m\u001b[1;33m,\u001b[0m \u001b[0mcolor\u001b[0m\u001b[1;33m=\u001b[0m\u001b[1;34m'red'\u001b[0m\u001b[1;33m,\u001b[0m \u001b[0malpha\u001b[0m\u001b[1;33m=\u001b[0m\u001b[1;36m0.5\u001b[0m\u001b[1;33m)\u001b[0m\u001b[1;33m\u001b[0m\u001b[0m\n\u001b[0m\u001b[0;32m      9\u001b[0m     \u001b[0mprint\u001b[0m\u001b[1;33m(\u001b[0m\u001b[1;34m'Mean='\u001b[0m\u001b[1;33m,\u001b[0m \u001b[0mnp\u001b[0m\u001b[1;33m.\u001b[0m\u001b[0mround\u001b[0m\u001b[1;33m(\u001b[0m\u001b[0mnp\u001b[0m\u001b[1;33m.\u001b[0m\u001b[0mmean\u001b[0m\u001b[1;33m(\u001b[0m\u001b[0mdata\u001b[0m\u001b[1;33m[\u001b[0m\u001b[0ma\u001b[0m\u001b[1;33m:\u001b[0m\u001b[0mb\u001b[0m\u001b[1;33m,\u001b[0m\u001b[1;36m1\u001b[0m\u001b[1;33m]\u001b[0m\u001b[1;33m)\u001b[0m\u001b[1;33m,\u001b[0m\u001b[1;36m5\u001b[0m\u001b[1;33m)\u001b[0m\u001b[1;33m)\u001b[0m\u001b[1;33m\u001b[0m\u001b[0m\n\u001b[0;32m     10\u001b[0m     \u001b[0mprint\u001b[0m\u001b[1;33m(\u001b[0m\u001b[1;34m'Standard deviation='\u001b[0m\u001b[1;33m,\u001b[0m \u001b[0mnp\u001b[0m\u001b[1;33m.\u001b[0m\u001b[0mround\u001b[0m\u001b[1;33m(\u001b[0m\u001b[0mnp\u001b[0m\u001b[1;33m.\u001b[0m\u001b[0mstd\u001b[0m\u001b[1;33m(\u001b[0m\u001b[0mdata\u001b[0m\u001b[1;33m[\u001b[0m\u001b[0ma\u001b[0m\u001b[1;33m:\u001b[0m\u001b[0mb\u001b[0m\u001b[1;33m,\u001b[0m\u001b[1;36m1\u001b[0m\u001b[1;33m]\u001b[0m\u001b[1;33m)\u001b[0m\u001b[1;33m,\u001b[0m\u001b[1;36m5\u001b[0m\u001b[1;33m)\u001b[0m\u001b[1;33m)\u001b[0m\u001b[1;33m\u001b[0m\u001b[0m\n",
          "\u001b[1;31mIndexError\u001b[0m: index 48 is out of bounds for axis 0 with size 2"
         ]
        }
       ]
      }
     },
     "8687ae14c1fa45f4947f6236bbde591d": {
      "model_module": "@jupyter-widgets/base",
      "model_module_version": "1.0.0",
      "model_name": "LayoutModel",
      "state": {}
     },
     "87ad62d85e5b4d46bdab071861ef67d5": {
      "model_module": "@jupyter-widgets/output",
      "model_module_version": "1.0.0",
      "model_name": "OutputModel",
      "state": {
       "layout": "IPY_MODEL_9fb77a209dd549deb53b97f576d8799b",
       "outputs": [
        {
         "ename": "TypeError",
         "evalue": "list indices must be integers or slices, not tuple",
         "output_type": "error",
         "traceback": [
          "\u001b[1;31m---------------------------------------------------------------------------\u001b[0m",
          "\u001b[1;31mTypeError\u001b[0m                                 Traceback (most recent call last)",
          "\u001b[1;32m~\\AppData\\Local\\Continuum\\anaconda3\\lib\\site-packages\\ipywidgets\\widgets\\interaction.py\u001b[0m in \u001b[0;36mupdate\u001b[1;34m(self, *args)\u001b[0m\n\u001b[0;32m    249\u001b[0m                     \u001b[0mvalue\u001b[0m \u001b[1;33m=\u001b[0m \u001b[0mwidget\u001b[0m\u001b[1;33m.\u001b[0m\u001b[0mget_interact_value\u001b[0m\u001b[1;33m(\u001b[0m\u001b[1;33m)\u001b[0m\u001b[1;33m\u001b[0m\u001b[0m\n\u001b[0;32m    250\u001b[0m                     \u001b[0mself\u001b[0m\u001b[1;33m.\u001b[0m\u001b[0mkwargs\u001b[0m\u001b[1;33m[\u001b[0m\u001b[0mwidget\u001b[0m\u001b[1;33m.\u001b[0m\u001b[0m_kwarg\u001b[0m\u001b[1;33m]\u001b[0m \u001b[1;33m=\u001b[0m \u001b[0mvalue\u001b[0m\u001b[1;33m\u001b[0m\u001b[0m\n\u001b[1;32m--> 251\u001b[1;33m                 \u001b[0mself\u001b[0m\u001b[1;33m.\u001b[0m\u001b[0mresult\u001b[0m \u001b[1;33m=\u001b[0m \u001b[0mself\u001b[0m\u001b[1;33m.\u001b[0m\u001b[0mf\u001b[0m\u001b[1;33m(\u001b[0m\u001b[1;33m**\u001b[0m\u001b[0mself\u001b[0m\u001b[1;33m.\u001b[0m\u001b[0mkwargs\u001b[0m\u001b[1;33m)\u001b[0m\u001b[1;33m\u001b[0m\u001b[0m\n\u001b[0m\u001b[0;32m    252\u001b[0m                 \u001b[0mshow_inline_matplotlib_plots\u001b[0m\u001b[1;33m(\u001b[0m\u001b[1;33m)\u001b[0m\u001b[1;33m\u001b[0m\u001b[0m\n\u001b[0;32m    253\u001b[0m                 \u001b[1;32mif\u001b[0m \u001b[0mself\u001b[0m\u001b[1;33m.\u001b[0m\u001b[0mauto_display\u001b[0m \u001b[1;32mand\u001b[0m \u001b[0mself\u001b[0m\u001b[1;33m.\u001b[0m\u001b[0mresult\u001b[0m \u001b[1;32mis\u001b[0m \u001b[1;32mnot\u001b[0m \u001b[1;32mNone\u001b[0m\u001b[1;33m:\u001b[0m\u001b[1;33m\u001b[0m\u001b[0m\n",
          "\u001b[1;32m<ipython-input-31-17a6fefdcf3b>\u001b[0m in \u001b[0;36mstd_dev_plot\u001b[1;34m(data, center, width)\u001b[0m\n\u001b[0;32m      5\u001b[0m     \u001b[0mb\u001b[0m\u001b[1;33m=\u001b[0m\u001b[0mcenter\u001b[0m\u001b[1;33m+\u001b[0m\u001b[0mwidth\u001b[0m\u001b[1;33m\u001b[0m\u001b[0m\n\u001b[0;32m      6\u001b[0m     \u001b[0mplt\u001b[0m\u001b[1;33m.\u001b[0m\u001b[0mfigure\u001b[0m\u001b[1;33m(\u001b[0m\u001b[0mfigsize\u001b[0m\u001b[1;33m=\u001b[0m\u001b[1;33m(\u001b[0m\u001b[1;36m6\u001b[0m\u001b[1;33m,\u001b[0m\u001b[1;36m6\u001b[0m\u001b[1;33m)\u001b[0m\u001b[1;33m)\u001b[0m\u001b[1;33m\u001b[0m\u001b[0m\n\u001b[1;32m----> 7\u001b[1;33m     \u001b[0mplt\u001b[0m\u001b[1;33m.\u001b[0m\u001b[0mplot\u001b[0m\u001b[1;33m(\u001b[0m\u001b[0mdata\u001b[0m\u001b[1;33m[\u001b[0m\u001b[1;33m:\u001b[0m\u001b[1;33m,\u001b[0m\u001b[1;36m0\u001b[0m\u001b[1;33m]\u001b[0m\u001b[1;33m,\u001b[0m\u001b[0mdata\u001b[0m\u001b[1;33m[\u001b[0m\u001b[1;33m:\u001b[0m\u001b[1;33m,\u001b[0m\u001b[1;36m1\u001b[0m\u001b[1;33m]\u001b[0m\u001b[1;33m)\u001b[0m\u001b[1;33m\u001b[0m\u001b[0m\n\u001b[0m\u001b[0;32m      8\u001b[0m     \u001b[0mplt\u001b[0m\u001b[1;33m.\u001b[0m\u001b[0maxvspan\u001b[0m\u001b[1;33m(\u001b[0m\u001b[0mdata\u001b[0m\u001b[1;33m[\u001b[0m\u001b[0ma\u001b[0m\u001b[1;33m,\u001b[0m\u001b[1;36m0\u001b[0m\u001b[1;33m]\u001b[0m\u001b[1;33m,\u001b[0m\u001b[0mdata\u001b[0m\u001b[1;33m[\u001b[0m\u001b[0mb\u001b[0m\u001b[1;33m,\u001b[0m\u001b[1;36m0\u001b[0m\u001b[1;33m]\u001b[0m\u001b[1;33m,\u001b[0m \u001b[0mcolor\u001b[0m\u001b[1;33m=\u001b[0m\u001b[1;34m'red'\u001b[0m\u001b[1;33m,\u001b[0m \u001b[0malpha\u001b[0m\u001b[1;33m=\u001b[0m\u001b[1;36m0.5\u001b[0m\u001b[1;33m)\u001b[0m\u001b[1;33m\u001b[0m\u001b[0m\n\u001b[0;32m      9\u001b[0m     \u001b[0mprint\u001b[0m\u001b[1;33m(\u001b[0m\u001b[1;34m'Mean='\u001b[0m\u001b[1;33m,\u001b[0m \u001b[0mnp\u001b[0m\u001b[1;33m.\u001b[0m\u001b[0mround\u001b[0m\u001b[1;33m(\u001b[0m\u001b[0mnp\u001b[0m\u001b[1;33m.\u001b[0m\u001b[0mmean\u001b[0m\u001b[1;33m(\u001b[0m\u001b[0mdata\u001b[0m\u001b[1;33m[\u001b[0m\u001b[0ma\u001b[0m\u001b[1;33m:\u001b[0m\u001b[0mb\u001b[0m\u001b[1;33m,\u001b[0m\u001b[1;36m1\u001b[0m\u001b[1;33m]\u001b[0m\u001b[1;33m)\u001b[0m\u001b[1;33m,\u001b[0m\u001b[1;36m5\u001b[0m\u001b[1;33m)\u001b[0m\u001b[1;33m)\u001b[0m\u001b[1;33m\u001b[0m\u001b[0m\n",
          "\u001b[1;31mTypeError\u001b[0m: list indices must be integers or slices, not tuple"
         ]
        }
       ]
      }
     },
     "881652e85d964603a824a533bb92532d": {
      "model_module": "@jupyter-widgets/controls",
      "model_module_version": "1.2.0",
      "model_name": "VBoxModel",
      "state": {
       "_dom_classes": [
        "widget-interact"
       ],
       "children": [
        "IPY_MODEL_8c20d257d6264414a3a08c535f3a5b04",
        "IPY_MODEL_16f578771ca641ac9a9ee5f867c39c83",
        "IPY_MODEL_87ad62d85e5b4d46bdab071861ef67d5"
       ],
       "layout": "IPY_MODEL_b551f935758e40958904e058c6949c67"
      }
     },
     "8acf77ff79c242879e9150f06f4d4994": {
      "model_module": "@jupyter-widgets/base",
      "model_module_version": "1.0.0",
      "model_name": "LayoutModel",
      "state": {}
     },
     "8b6b46ee06c349ce8a4531c82389566d": {
      "model_module": "@jupyter-widgets/controls",
      "model_module_version": "1.2.0",
      "model_name": "IntSliderModel",
      "state": {
       "description": "width",
       "layout": "IPY_MODEL_7efd949e02bf4d6e8106ed7c40a7604f",
       "max": 8,
       "min": 2,
       "step": 14,
       "style": "IPY_MODEL_c6484326a9534951af58e6e1a703e2ea",
       "value": 2
      }
     },
     "8c20d257d6264414a3a08c535f3a5b04": {
      "model_module": "@jupyter-widgets/controls",
      "model_module_version": "1.2.0",
      "model_name": "IntSliderModel",
      "state": {
       "description": "center",
       "layout": "IPY_MODEL_9a4d13dee1674b9c9b96d59efaebb0a4",
       "max": 50,
       "min": 10,
       "step": 90,
       "style": "IPY_MODEL_2702f2fc4e8b45e18ec7daac89cb58ec",
       "value": 10
      }
     },
     "8cad59159ef249e78f531bd1973adbbb": {
      "model_module": "@jupyter-widgets/controls",
      "model_module_version": "1.2.0",
      "model_name": "SliderStyleModel",
      "state": {
       "description_width": ""
      }
     },
     "8e16c24933584066b42521de18779d06": {
      "model_module": "@jupyter-widgets/base",
      "model_module_version": "1.0.0",
      "model_name": "LayoutModel",
      "state": {}
     },
     "9266832f8a514bd98775545962596a6c": {
      "model_module": "@jupyter-widgets/controls",
      "model_module_version": "1.2.0",
      "model_name": "IntSliderModel",
      "state": {
       "description": "center",
       "layout": "IPY_MODEL_33cd7c76e9634c1e850b1813d87a413f",
       "max": 50,
       "min": 10,
       "step": 90,
       "style": "IPY_MODEL_6a8c7f938b8a4f0a919dd383ab31ce76",
       "value": 10
      }
     },
     "9518c75033d44d90bb3a464d21ed16b3": {
      "model_module": "@jupyter-widgets/base",
      "model_module_version": "1.0.0",
      "model_name": "LayoutModel",
      "state": {}
     },
     "965fd5a0736e42cb84c278b7e7fb1f43": {
      "model_module": "@jupyter-widgets/controls",
      "model_module_version": "1.2.0",
      "model_name": "IntSliderModel",
      "state": {
       "description": "width",
       "layout": "IPY_MODEL_25cf84107f304b1eb540baf3f7aa3661",
       "max": 8,
       "min": 2,
       "step": 14,
       "style": "IPY_MODEL_10ba66b4b9d9490d91e89131315380a3",
       "value": 2
      }
     },
     "9a4d13dee1674b9c9b96d59efaebb0a4": {
      "model_module": "@jupyter-widgets/base",
      "model_module_version": "1.0.0",
      "model_name": "LayoutModel",
      "state": {}
     },
     "9ea96f39edba454993645d3ade35986b": {
      "model_module": "@jupyter-widgets/controls",
      "model_module_version": "1.2.0",
      "model_name": "IntSliderModel",
      "state": {
       "description": "width",
       "layout": "IPY_MODEL_be7328e0f5c845b7bdd81536edcbe85e",
       "max": 5,
       "min": 2,
       "step": 8,
       "style": "IPY_MODEL_25ea485ad90f44ad8ccce2b7658e422d",
       "value": 2
      }
     },
     "9fb77a209dd549deb53b97f576d8799b": {
      "model_module": "@jupyter-widgets/base",
      "model_module_version": "1.0.0",
      "model_name": "LayoutModel",
      "state": {}
     },
     "a4b8cb10bf8c4e67ae1f12d2829137a0": {
      "model_module": "@jupyter-widgets/base",
      "model_module_version": "1.0.0",
      "model_name": "LayoutModel",
      "state": {}
     },
     "aa720893ae1b46df96769e48d74da8bf": {
      "model_module": "@jupyter-widgets/base",
      "model_module_version": "1.0.0",
      "model_name": "LayoutModel",
      "state": {}
     },
     "acc0636ebc664d418c240cfdcc846f3c": {
      "model_module": "@jupyter-widgets/output",
      "model_module_version": "1.0.0",
      "model_name": "OutputModel",
      "state": {
       "layout": "IPY_MODEL_8acf77ff79c242879e9150f06f4d4994",
       "outputs": [
        {
         "ename": "IndexError",
         "evalue": "too many indices for array",
         "output_type": "error",
         "traceback": [
          "\u001b[1;31m---------------------------------------------------------------------------\u001b[0m",
          "\u001b[1;31mIndexError\u001b[0m                                Traceback (most recent call last)",
          "\u001b[1;32m~\\AppData\\Local\\Continuum\\anaconda3\\lib\\site-packages\\ipywidgets\\widgets\\interaction.py\u001b[0m in \u001b[0;36mupdate\u001b[1;34m(self, *args)\u001b[0m\n\u001b[0;32m    249\u001b[0m                     \u001b[0mvalue\u001b[0m \u001b[1;33m=\u001b[0m \u001b[0mwidget\u001b[0m\u001b[1;33m.\u001b[0m\u001b[0mget_interact_value\u001b[0m\u001b[1;33m(\u001b[0m\u001b[1;33m)\u001b[0m\u001b[1;33m\u001b[0m\u001b[0m\n\u001b[0;32m    250\u001b[0m                     \u001b[0mself\u001b[0m\u001b[1;33m.\u001b[0m\u001b[0mkwargs\u001b[0m\u001b[1;33m[\u001b[0m\u001b[0mwidget\u001b[0m\u001b[1;33m.\u001b[0m\u001b[0m_kwarg\u001b[0m\u001b[1;33m]\u001b[0m \u001b[1;33m=\u001b[0m \u001b[0mvalue\u001b[0m\u001b[1;33m\u001b[0m\u001b[0m\n\u001b[1;32m--> 251\u001b[1;33m                 \u001b[0mself\u001b[0m\u001b[1;33m.\u001b[0m\u001b[0mresult\u001b[0m \u001b[1;33m=\u001b[0m \u001b[0mself\u001b[0m\u001b[1;33m.\u001b[0m\u001b[0mf\u001b[0m\u001b[1;33m(\u001b[0m\u001b[1;33m**\u001b[0m\u001b[0mself\u001b[0m\u001b[1;33m.\u001b[0m\u001b[0mkwargs\u001b[0m\u001b[1;33m)\u001b[0m\u001b[1;33m\u001b[0m\u001b[0m\n\u001b[0m\u001b[0;32m    252\u001b[0m                 \u001b[0mshow_inline_matplotlib_plots\u001b[0m\u001b[1;33m(\u001b[0m\u001b[1;33m)\u001b[0m\u001b[1;33m\u001b[0m\u001b[0m\n\u001b[0;32m    253\u001b[0m                 \u001b[1;32mif\u001b[0m \u001b[0mself\u001b[0m\u001b[1;33m.\u001b[0m\u001b[0mauto_display\u001b[0m \u001b[1;32mand\u001b[0m \u001b[0mself\u001b[0m\u001b[1;33m.\u001b[0m\u001b[0mresult\u001b[0m \u001b[1;32mis\u001b[0m \u001b[1;32mnot\u001b[0m \u001b[1;32mNone\u001b[0m\u001b[1;33m:\u001b[0m\u001b[1;33m\u001b[0m\u001b[0m\n",
          "\u001b[1;32m<ipython-input-31-17a6fefdcf3b>\u001b[0m in \u001b[0;36mstd_dev_plot\u001b[1;34m(data, center, width)\u001b[0m\n\u001b[0;32m      5\u001b[0m     \u001b[0mb\u001b[0m\u001b[1;33m=\u001b[0m\u001b[0mcenter\u001b[0m\u001b[1;33m+\u001b[0m\u001b[0mwidth\u001b[0m\u001b[1;33m\u001b[0m\u001b[0m\n\u001b[0;32m      6\u001b[0m     \u001b[0mplt\u001b[0m\u001b[1;33m.\u001b[0m\u001b[0mfigure\u001b[0m\u001b[1;33m(\u001b[0m\u001b[0mfigsize\u001b[0m\u001b[1;33m=\u001b[0m\u001b[1;33m(\u001b[0m\u001b[1;36m6\u001b[0m\u001b[1;33m,\u001b[0m\u001b[1;36m6\u001b[0m\u001b[1;33m)\u001b[0m\u001b[1;33m)\u001b[0m\u001b[1;33m\u001b[0m\u001b[0m\n\u001b[1;32m----> 7\u001b[1;33m     \u001b[0mplt\u001b[0m\u001b[1;33m.\u001b[0m\u001b[0mplot\u001b[0m\u001b[1;33m(\u001b[0m\u001b[0mdata\u001b[0m\u001b[1;33m[\u001b[0m\u001b[1;33m:\u001b[0m\u001b[1;33m,\u001b[0m\u001b[1;36m0\u001b[0m\u001b[1;33m]\u001b[0m\u001b[1;33m,\u001b[0m\u001b[0mdata\u001b[0m\u001b[1;33m[\u001b[0m\u001b[1;33m:\u001b[0m\u001b[1;33m,\u001b[0m\u001b[1;36m1\u001b[0m\u001b[1;33m]\u001b[0m\u001b[1;33m)\u001b[0m\u001b[1;33m\u001b[0m\u001b[0m\n\u001b[0m\u001b[0;32m      8\u001b[0m     \u001b[0mplt\u001b[0m\u001b[1;33m.\u001b[0m\u001b[0maxvspan\u001b[0m\u001b[1;33m(\u001b[0m\u001b[0mdata\u001b[0m\u001b[1;33m[\u001b[0m\u001b[0ma\u001b[0m\u001b[1;33m,\u001b[0m\u001b[1;36m0\u001b[0m\u001b[1;33m]\u001b[0m\u001b[1;33m,\u001b[0m\u001b[0mdata\u001b[0m\u001b[1;33m[\u001b[0m\u001b[0mb\u001b[0m\u001b[1;33m,\u001b[0m\u001b[1;36m0\u001b[0m\u001b[1;33m]\u001b[0m\u001b[1;33m,\u001b[0m \u001b[0mcolor\u001b[0m\u001b[1;33m=\u001b[0m\u001b[1;34m'red'\u001b[0m\u001b[1;33m,\u001b[0m \u001b[0malpha\u001b[0m\u001b[1;33m=\u001b[0m\u001b[1;36m0.5\u001b[0m\u001b[1;33m)\u001b[0m\u001b[1;33m\u001b[0m\u001b[0m\n\u001b[0;32m      9\u001b[0m     \u001b[0mprint\u001b[0m\u001b[1;33m(\u001b[0m\u001b[1;34m'Mean='\u001b[0m\u001b[1;33m,\u001b[0m \u001b[0mnp\u001b[0m\u001b[1;33m.\u001b[0m\u001b[0mround\u001b[0m\u001b[1;33m(\u001b[0m\u001b[0mnp\u001b[0m\u001b[1;33m.\u001b[0m\u001b[0mmean\u001b[0m\u001b[1;33m(\u001b[0m\u001b[0mdata\u001b[0m\u001b[1;33m[\u001b[0m\u001b[0ma\u001b[0m\u001b[1;33m:\u001b[0m\u001b[0mb\u001b[0m\u001b[1;33m,\u001b[0m\u001b[1;36m1\u001b[0m\u001b[1;33m]\u001b[0m\u001b[1;33m)\u001b[0m\u001b[1;33m,\u001b[0m\u001b[1;36m5\u001b[0m\u001b[1;33m)\u001b[0m\u001b[1;33m)\u001b[0m\u001b[1;33m\u001b[0m\u001b[0m\n",
          "\u001b[1;31mIndexError\u001b[0m: too many indices for array"
         ]
        }
       ]
      }
     },
     "af13b9feab5d4c34be8eab23febf544a": {
      "model_module": "@jupyter-widgets/base",
      "model_module_version": "1.0.0",
      "model_name": "LayoutModel",
      "state": {}
     },
     "b124f3d5eccf4fab928a60fc0b4e7e05": {
      "model_module": "@jupyter-widgets/controls",
      "model_module_version": "1.2.0",
      "model_name": "VBoxModel",
      "state": {
       "_dom_classes": [
        "widget-interact"
       ],
       "children": [
        "IPY_MODEL_2892286d4d124218a5346b3fd1206501",
        "IPY_MODEL_1eeeb78fb20d4e0c99f249d25f735c1c",
        "IPY_MODEL_acc0636ebc664d418c240cfdcc846f3c"
       ],
       "layout": "IPY_MODEL_3c7b4fca1acc4ee7be57116650547c91"
      }
     },
     "b21c096ee5de452a9142bedaf57ab514": {
      "model_module": "@jupyter-widgets/base",
      "model_module_version": "1.0.0",
      "model_name": "LayoutModel",
      "state": {}
     },
     "b456d10a6db0456c9e15edc1486f07ab": {
      "model_module": "@jupyter-widgets/controls",
      "model_module_version": "1.2.0",
      "model_name": "IntSliderModel",
      "state": {
       "description": "width",
       "layout": "IPY_MODEL_4b3e42150e794e1fa68e1b021ea167fb",
       "max": 8,
       "min": 2,
       "step": 14,
       "style": "IPY_MODEL_ff697aa8c3244345bc340dcfa9e65618",
       "value": 2
      }
     },
     "b551f935758e40958904e058c6949c67": {
      "model_module": "@jupyter-widgets/base",
      "model_module_version": "1.0.0",
      "model_name": "LayoutModel",
      "state": {}
     },
     "b96d42616b6d4d8dbe4272f95387e722": {
      "model_module": "@jupyter-widgets/controls",
      "model_module_version": "1.2.0",
      "model_name": "IntSliderModel",
      "state": {
       "description": "center",
       "layout": "IPY_MODEL_aa720893ae1b46df96769e48d74da8bf",
       "max": 50,
       "min": 10,
       "step": 90,
       "style": "IPY_MODEL_612d486915cb45aeb31a4181f39fe553",
       "value": 10
      }
     },
     "be7328e0f5c845b7bdd81536edcbe85e": {
      "model_module": "@jupyter-widgets/base",
      "model_module_version": "1.0.0",
      "model_name": "LayoutModel",
      "state": {}
     },
     "beb483a67d444f62a3fb44539bb4c0ad": {
      "model_module": "@jupyter-widgets/controls",
      "model_module_version": "1.2.0",
      "model_name": "SliderStyleModel",
      "state": {
       "description_width": ""
      }
     },
     "c60b13117b294da6bbab82c3ceb3deb9": {
      "model_module": "@jupyter-widgets/controls",
      "model_module_version": "1.2.0",
      "model_name": "VBoxModel",
      "state": {
       "_dom_classes": [
        "widget-interact"
       ],
       "children": [
        "IPY_MODEL_600a21dbdf644f028c3a25179be64dbb",
        "IPY_MODEL_b456d10a6db0456c9e15edc1486f07ab",
        "IPY_MODEL_042647a50b0140ed835fec49947e7020"
       ],
       "layout": "IPY_MODEL_c706989263424c3cb96bda6a263dd8b3"
      }
     },
     "c6484326a9534951af58e6e1a703e2ea": {
      "model_module": "@jupyter-widgets/controls",
      "model_module_version": "1.2.0",
      "model_name": "SliderStyleModel",
      "state": {
       "description_width": ""
      }
     },
     "c706989263424c3cb96bda6a263dd8b3": {
      "model_module": "@jupyter-widgets/base",
      "model_module_version": "1.0.0",
      "model_name": "LayoutModel",
      "state": {}
     },
     "c8bf74b7d70848cb885da6d1dad7773a": {
      "model_module": "@jupyter-widgets/controls",
      "model_module_version": "1.2.0",
      "model_name": "IntSliderModel",
      "state": {
       "description": "center",
       "layout": "IPY_MODEL_0e207fcc00924d46a68ae95fe696429b",
       "max": 150,
       "min": -50,
       "style": "IPY_MODEL_22abbfabfbe544c79d8a15ca445a2982",
       "value": 36
      }
     },
     "c9267af09d354ad59f0dbaabd97db204": {
      "model_module": "@jupyter-widgets/base",
      "model_module_version": "1.0.0",
      "model_name": "LayoutModel",
      "state": {}
     },
     "d73d029af2e341dfa5b7b2c2e4ac4282": {
      "model_module": "@jupyter-widgets/controls",
      "model_module_version": "1.2.0",
      "model_name": "VBoxModel",
      "state": {
       "_dom_classes": [
        "widget-interact"
       ],
       "children": [
        "IPY_MODEL_71263c06e26045d79ea0648c5322670f",
        "IPY_MODEL_336e94de63d04c6fae44a18d7e94abc8",
        "IPY_MODEL_71a0013c012f4da78932c1dbeff206df"
       ],
       "layout": "IPY_MODEL_311982a3128c40c8ac3b5498acdaf098"
      }
     },
     "e051d9943e614faea2ca3be341b111a3": {
      "model_module": "@jupyter-widgets/base",
      "model_module_version": "1.0.0",
      "model_name": "LayoutModel",
      "state": {}
     },
     "e061a255a3354d62b175532b751d057a": {
      "model_module": "@jupyter-widgets/base",
      "model_module_version": "1.0.0",
      "model_name": "LayoutModel",
      "state": {}
     },
     "e47f30ea2aa74b30b7d9f608dc3f22fd": {
      "model_module": "@jupyter-widgets/controls",
      "model_module_version": "1.2.0",
      "model_name": "VBoxModel",
      "state": {
       "_dom_classes": [
        "widget-interact"
       ],
       "children": [
        "IPY_MODEL_c8bf74b7d70848cb885da6d1dad7773a",
        "IPY_MODEL_9ea96f39edba454993645d3ade35986b",
        "IPY_MODEL_2711831f693e43f2bd95cbd10eabb558"
       ],
       "layout": "IPY_MODEL_2fd301187afa4a78afe2401b739fd52d"
      }
     },
     "ea3c6136a969471084756bcf3e938021": {
      "model_module": "@jupyter-widgets/output",
      "model_module_version": "1.0.0",
      "model_name": "OutputModel",
      "state": {
       "layout": "IPY_MODEL_3a8f5aa08bf548d3bdd5445f6af688c3",
       "outputs": [
        {
         "ename": "AttributeError",
         "evalue": "'list' object has no attribute 'values'",
         "output_type": "error",
         "traceback": [
          "\u001b[1;31m---------------------------------------------------------------------------\u001b[0m",
          "\u001b[1;31mAttributeError\u001b[0m                            Traceback (most recent call last)",
          "\u001b[1;32m~\\AppData\\Local\\Continuum\\anaconda3\\lib\\site-packages\\ipywidgets\\widgets\\interaction.py\u001b[0m in \u001b[0;36mupdate\u001b[1;34m(self, *args)\u001b[0m\n\u001b[0;32m    249\u001b[0m                     \u001b[0mvalue\u001b[0m \u001b[1;33m=\u001b[0m \u001b[0mwidget\u001b[0m\u001b[1;33m.\u001b[0m\u001b[0mget_interact_value\u001b[0m\u001b[1;33m(\u001b[0m\u001b[1;33m)\u001b[0m\u001b[1;33m\u001b[0m\u001b[0m\n\u001b[0;32m    250\u001b[0m                     \u001b[0mself\u001b[0m\u001b[1;33m.\u001b[0m\u001b[0mkwargs\u001b[0m\u001b[1;33m[\u001b[0m\u001b[0mwidget\u001b[0m\u001b[1;33m.\u001b[0m\u001b[0m_kwarg\u001b[0m\u001b[1;33m]\u001b[0m \u001b[1;33m=\u001b[0m \u001b[0mvalue\u001b[0m\u001b[1;33m\u001b[0m\u001b[0m\n\u001b[1;32m--> 251\u001b[1;33m                 \u001b[0mself\u001b[0m\u001b[1;33m.\u001b[0m\u001b[0mresult\u001b[0m \u001b[1;33m=\u001b[0m \u001b[0mself\u001b[0m\u001b[1;33m.\u001b[0m\u001b[0mf\u001b[0m\u001b[1;33m(\u001b[0m\u001b[1;33m**\u001b[0m\u001b[0mself\u001b[0m\u001b[1;33m.\u001b[0m\u001b[0mkwargs\u001b[0m\u001b[1;33m)\u001b[0m\u001b[1;33m\u001b[0m\u001b[0m\n\u001b[0m\u001b[0;32m    252\u001b[0m                 \u001b[0mshow_inline_matplotlib_plots\u001b[0m\u001b[1;33m(\u001b[0m\u001b[1;33m)\u001b[0m\u001b[1;33m\u001b[0m\u001b[0m\n\u001b[0;32m    253\u001b[0m                 \u001b[1;32mif\u001b[0m \u001b[0mself\u001b[0m\u001b[1;33m.\u001b[0m\u001b[0mauto_display\u001b[0m \u001b[1;32mand\u001b[0m \u001b[0mself\u001b[0m\u001b[1;33m.\u001b[0m\u001b[0mresult\u001b[0m \u001b[1;32mis\u001b[0m \u001b[1;32mnot\u001b[0m \u001b[1;32mNone\u001b[0m\u001b[1;33m:\u001b[0m\u001b[1;33m\u001b[0m\u001b[0m\n",
          "\u001b[1;32m<ipython-input-2-d98e6daf7597>\u001b[0m in \u001b[0;36mstd_dev_plot\u001b[1;34m(data, center, width)\u001b[0m\n\u001b[0;32m      1\u001b[0m \u001b[1;32mdef\u001b[0m \u001b[0mstd_dev_plot\u001b[0m\u001b[1;33m(\u001b[0m\u001b[0mdata\u001b[0m\u001b[1;33m,\u001b[0m\u001b[0mcenter\u001b[0m\u001b[1;33m,\u001b[0m\u001b[0mwidth\u001b[0m\u001b[1;33m)\u001b[0m\u001b[1;33m:\u001b[0m\u001b[1;33m\u001b[0m\u001b[0m\n\u001b[1;32m----> 2\u001b[1;33m     \u001b[0mdata\u001b[0m\u001b[1;33m=\u001b[0m\u001b[0mdata\u001b[0m\u001b[1;33m.\u001b[0m\u001b[0mvalues\u001b[0m\u001b[1;33m\u001b[0m\u001b[0m\n\u001b[0m\u001b[0;32m      3\u001b[0m     \u001b[1;31m#data_std=data[start:end]\u001b[0m\u001b[1;33m\u001b[0m\u001b[1;33m\u001b[0m\u001b[0m\n\u001b[0;32m      4\u001b[0m     \u001b[0ma\u001b[0m\u001b[1;33m=\u001b[0m\u001b[0mcenter\u001b[0m\u001b[1;33m-\u001b[0m\u001b[0mwidth\u001b[0m\u001b[1;33m\u001b[0m\u001b[0m\n\u001b[0;32m      5\u001b[0m     \u001b[0mb\u001b[0m\u001b[1;33m=\u001b[0m\u001b[0mcenter\u001b[0m\u001b[1;33m+\u001b[0m\u001b[0mwidth\u001b[0m\u001b[1;33m\u001b[0m\u001b[0m\n",
          "\u001b[1;31mAttributeError\u001b[0m: 'list' object has no attribute 'values'"
         ]
        }
       ]
      }
     },
     "ef3f3af5b85045788ab21fa4fb095c33": {
      "model_module": "@jupyter-widgets/base",
      "model_module_version": "1.0.0",
      "model_name": "LayoutModel",
      "state": {}
     },
     "f4c6469b56704a19b4eceb5e197e8f05": {
      "model_module": "@jupyter-widgets/controls",
      "model_module_version": "1.2.0",
      "model_name": "VBoxModel",
      "state": {
       "_dom_classes": [
        "widget-interact"
       ],
       "children": [
        "IPY_MODEL_b96d42616b6d4d8dbe4272f95387e722",
        "IPY_MODEL_f7ffa000e8dd4a3da362565af05ba1b7",
        "IPY_MODEL_ea3c6136a969471084756bcf3e938021"
       ],
       "layout": "IPY_MODEL_c9267af09d354ad59f0dbaabd97db204"
      }
     },
     "f551b96ad39144348f46e7fb5eda338e": {
      "model_module": "@jupyter-widgets/controls",
      "model_module_version": "1.2.0",
      "model_name": "IntSliderModel",
      "state": {
       "description": "width",
       "layout": "IPY_MODEL_b21c096ee5de452a9142bedaf57ab514",
       "max": 5,
       "min": 2,
       "step": 8,
       "style": "IPY_MODEL_0a7a5fe0b75741bab53a77a047ac1a03",
       "value": 2
      }
     },
     "f7ffa000e8dd4a3da362565af05ba1b7": {
      "model_module": "@jupyter-widgets/controls",
      "model_module_version": "1.2.0",
      "model_name": "IntSliderModel",
      "state": {
       "description": "width",
       "layout": "IPY_MODEL_e061a255a3354d62b175532b751d057a",
       "max": 8,
       "min": 2,
       "step": 14,
       "style": "IPY_MODEL_8cad59159ef249e78f531bd1973adbbb",
       "value": 2
      }
     },
     "ff697aa8c3244345bc340dcfa9e65618": {
      "model_module": "@jupyter-widgets/controls",
      "model_module_version": "1.2.0",
      "model_name": "SliderStyleModel",
      "state": {
       "description_width": ""
      }
     }
    },
    "version_major": 2,
    "version_minor": 0
   }
  }
 },
 "nbformat": 4,
 "nbformat_minor": 2
}
