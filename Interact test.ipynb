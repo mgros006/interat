{
 "cells": [
  {
   "cell_type": "code",
   "execution_count": 1,
   "metadata": {},
   "outputs": [],
   "source": [
    "import pandas as pd\n",
    "import numpy as np\n",
    "import scipy as sp\n",
    "import time\n",
    "import pylab as pyl\n",
    "import matplotlib as mpl\n",
    "import ipywidgets as widgets\n",
    "import csv\n",
    "\n",
    "from scipy.optimize import leastsq\n",
    "from scipy.optimize import curve_fit\n",
    "from scipy.optimize import least_squares\n",
    "\n",
    "from mpl_toolkits.mplot3d import Axes3D\n",
    "\n",
    "from importlib import reload\n",
    "\n",
    "from ipywidgets import interact, interactive, fixed, interact_manual\n",
    "from ipywidgets import Layout, Button, Box, VBox\n",
    "\n",
    "from numpy import gradient\n",
    "from numpy import sqrt\n",
    "from os.path import join\n",
    "\n",
    "import warnings\n",
    "from __future__ import print_function\n",
    "from matplotlib.widgets import Slider\n",
    "\n",
    "\n",
    "import matplotlib.pyplot as plt\n",
    "%matplotlib inline\n",
    "#%matplotlib notebook\n",
    "\n",
    "import warnings\n",
    "#this disables a warning about fractional values in widgets possibly not being supported in the future\n",
    "warnings.simplefilter(action='ignore', category=FutureWarning)"
   ]
  },
  {
   "cell_type": "code",
   "execution_count": 31,
   "metadata": {},
   "outputs": [],
   "source": [
    "def std_dev_plot(data,center,width):\n",
    "    #data=data.values\n",
    "    #data_std=data[start:end]\n",
    "    a=center-width\n",
    "    b=center+width\n",
    "    plt.figure(figsize=(6,6))\n",
    "    plt.plot(data[:,0],data[:,1])\n",
    "    plt.axvspan(data[a,0],data[b,0], color='red', alpha=0.5)\n",
    "    print('Mean=', np.round(np.mean(data[a:b,1]),5))\n",
    "    print('Standard deviation=', np.round(np.std(data[a:b,1]),5))\n",
    "    print('Std dev frac = ', np.round(np.std(data[a:b,1])/(np.mean(data[a:b,1])),4)*100,'%')\n",
    "    print('Standard error=', np.round(np.std(data[a:b,1]/(np.sqrt(b-a))),5))\n",
    "    print('Std err frac = ', np.round(np.std(data[a:b,1]/(np.sqrt(b-a)))/(np.mean(data[a:b,1])),4)*100,'%')\n",
    "    time.sleep(0.01)"
   ]
  },
  {
   "cell_type": "code",
   "execution_count": 43,
   "metadata": {},
   "outputs": [
    {
     "data": {
      "text/plain": [
       "(100, 2)"
      ]
     },
     "execution_count": 43,
     "metadata": {},
     "output_type": "execute_result"
    }
   ],
   "source": [
    "data1 = np.random.rand(100)\n",
    "x_ax = np.arange(0,100,1)\n",
    "data2 = np.transpose(np.array([x_ax,data1]))\n",
    "data2.shape"
   ]
  },
  {
   "cell_type": "code",
   "execution_count": 46,
   "metadata": {},
   "outputs": [
    {
     "data": {
      "application/vnd.jupyter.widget-view+json": {
       "model_id": "e47f30ea2aa74b30b7d9f608dc3f22fd",
       "version_major": 2,
       "version_minor": 0
      },
      "text/plain": [
       "interactive(children=(IntSlider(value=50, description='center', max=150, min=-50), IntSlider(value=2, descript…"
      ]
     },
     "metadata": {},
     "output_type": "display_data"
    },
    {
     "data": {
      "text/plain": [
       "<function __main__.std_dev_plot(data, center, width)>"
      ]
     },
     "execution_count": 46,
     "metadata": {},
     "output_type": "execute_result"
    }
   ],
   "source": [
    "interact(std_dev_plot,data=fixed(data2),center=(50),width=(2,5,8))"
   ]
  },
  {
   "cell_type": "code",
   "execution_count": null,
   "metadata": {},
   "outputs": [],
   "source": []
  }
 ],
 "metadata": {
  "kernelspec": {
   "display_name": "Python 3",
   "language": "python",
   "name": "python3"
  },
  "language_info": {
   "codemirror_mode": {
    "name": "ipython",
    "version": 3
   },
   "file_extension": ".py",
   "mimetype": "text/x-python",
   "name": "python",
   "nbconvert_exporter": "python",
   "pygments_lexer": "ipython3",
   "version": "3.6.5"
  }
 },
 "nbformat": 4,
 "nbformat_minor": 2
}
